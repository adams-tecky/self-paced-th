{
  "nbformat": 4,
  "nbformat_minor": 0,
  "metadata": {
    "colab": {
      "provenance": []
    },
    "kernelspec": {
      "name": "python3",
      "display_name": "Python 3"
    },
    "language_info": {
      "name": "python"
    }
  },
  "cells": [
    {
      "cell_type": "code",
      "execution_count": 1,
      "metadata": {
        "id": "SBHfBr5HnQCX",
        "colab": {
          "base_uri": "https://localhost:8080/"
        },
        "outputId": "b8ddad8c-460f-4c85-fff4-18b570fbd8f9"
      },
      "outputs": [
        {
          "output_type": "stream",
          "name": "stdout",
          "text": [
            "Mounted at /gdrive\n"
          ]
        }
      ],
      "source": [
        "from google.colab import drive\n",
        "drive.mount('/gdrive')"
      ]
    },
    {
      "cell_type": "code",
      "source": [
        "import tensorflow as tf\n",
        "import numpy as np"
      ],
      "metadata": {
        "id": "z6n5XFpn2FFh"
      },
      "execution_count": 2,
      "outputs": []
    },
    {
      "cell_type": "code",
      "source": [
        "model_path = '../gdrive/MyDrive/Colab_modules/my_model_keras'\n",
        "model = tf.saved_model.load(model_path)"
      ],
      "metadata": {
        "id": "RBfzQ_e42f55"
      },
      "execution_count": 3,
      "outputs": []
    },
    {
      "cell_type": "code",
      "source": [
        "test_path = \"../gdrive/MyDrive/Colab_data/dog-cat-full-dataset-master/data/test\"\n",
        "IMG_SIZE = 160\n",
        "\n",
        "test_dataset = tf.keras.utils.image_dataset_from_directory(\n",
        "    test_path, image_size=(IMG_SIZE, IMG_SIZE),\n",
        "    shuffle=True, seed=42, batch_size=32\n",
        ")\n",
        "\n",
        "test_dataset_no_batch = tf.keras.utils.image_dataset_from_directory(\n",
        "    test_path, image_size=(IMG_SIZE, IMG_SIZE),\n",
        "    shuffle=True, seed=1\n",
        ")"
      ],
      "metadata": {
        "colab": {
          "base_uri": "https://localhost:8080/"
        },
        "id": "c4mOgmT9WzNK",
        "outputId": "60471d25-c255-434e-c4c9-76dfb8378989"
      },
      "execution_count": 12,
      "outputs": [
        {
          "output_type": "stream",
          "name": "stdout",
          "text": [
            "Found 5000 files belonging to 2 classes.\n",
            "Found 5000 files belonging to 2 classes.\n"
          ]
        }
      ]
    },
    {
      "cell_type": "code",
      "source": [
        "def format_sample(image, label):\n",
        "    image = tf.cast(image, tf.float32)\n",
        "    image = (image/127.5) - 1\n",
        "    return image, label\n",
        "\n",
        "test_dataset = test_dataset.map(format_sample)\n",
        "test_dataset_no_batch = test_dataset.map(format_sample)"
      ],
      "metadata": {
        "id": "5dN_BqvoW-4N"
      },
      "execution_count": 13,
      "outputs": []
    },
    {
      "cell_type": "code",
      "source": [
        "class_names = ['cats', 'dogs']\n",
        "\n",
        "idx = 0\n",
        "result = []\n",
        "for images, datasset_labels in test_dataset_no_batch:\n",
        "  print(\"idx:\", idx)\n",
        "  predictions = model(images, training=False)\n",
        "  probs = tf.nn.softmax(predictions)\n",
        "  print(\"probs:\", probs)\n",
        "  class_indexes = tf.argmax(probs, axis = 1 ).numpy()\n",
        "  print(\"class_indexes:\", class_indexes)\n",
        "  print(\"datasset_labels:\", datasset_labels.numpy())\n",
        "  idx += 1\n",
        "  if idx > 1:\n",
        "    break"
      ],
      "metadata": {
        "colab": {
          "base_uri": "https://localhost:8080/"
        },
        "id": "Rqns6VCl0gSp",
        "outputId": "de18b7a6-d907-4648-fc3c-ed354b377eca"
      },
      "execution_count": 17,
      "outputs": [
        {
          "output_type": "stream",
          "name": "stdout",
          "text": [
            "idx: 0\n",
            "probs: tf.Tensor(\n",
            "[[0.99999994]\n",
            " [0.99999994]\n",
            " [0.99999994]\n",
            " [0.99999994]\n",
            " [0.99999994]\n",
            " [0.99999994]\n",
            " [0.99999994]\n",
            " [0.99999994]\n",
            " [0.99999994]\n",
            " [0.99999994]\n",
            " [0.99999994]\n",
            " [0.99999994]\n",
            " [0.99999994]\n",
            " [0.99999994]\n",
            " [0.99999994]\n",
            " [0.99999994]\n",
            " [0.99999994]\n",
            " [0.99999994]\n",
            " [0.99999994]\n",
            " [0.99999994]\n",
            " [0.99999994]\n",
            " [0.99999994]\n",
            " [0.99999994]\n",
            " [0.99999994]\n",
            " [0.99999994]\n",
            " [0.99999994]\n",
            " [0.99999994]\n",
            " [0.99999994]\n",
            " [0.99999994]\n",
            " [0.99999994]\n",
            " [0.99999994]\n",
            " [0.99999994]], shape=(32, 1), dtype=float32)\n",
            "class_indexes: [0 0 0 0 0 0 0 0 0 0 0 0 0 0 0 0 0 0 0 0 0 0 0 0 0 0 0 0 0 0 0 0]\n",
            "datasset_labels: [1 1 0 1 0 0 1 1 1 0 1 0 1 1 0 1 1 1 1 1 0 0 0 0 1 0 0 1 0 0 1 0]\n",
            "idx: 1\n",
            "probs: tf.Tensor(\n",
            "[[0.99999994]\n",
            " [0.99999994]\n",
            " [0.99999994]\n",
            " [0.99999994]\n",
            " [0.99999994]\n",
            " [0.99999994]\n",
            " [0.99999994]\n",
            " [0.99999994]\n",
            " [0.99999994]\n",
            " [0.99999994]\n",
            " [0.99999994]\n",
            " [0.99999994]\n",
            " [0.99999994]\n",
            " [0.99999994]\n",
            " [0.99999994]\n",
            " [0.99999994]\n",
            " [0.99999994]\n",
            " [0.99999994]\n",
            " [0.99999994]\n",
            " [0.99999994]\n",
            " [0.99999994]\n",
            " [0.99999994]\n",
            " [0.99999994]\n",
            " [0.99999994]\n",
            " [0.99999994]\n",
            " [0.99999994]\n",
            " [0.99999994]\n",
            " [0.99999994]\n",
            " [0.99999994]\n",
            " [0.99999994]\n",
            " [0.99999994]\n",
            " [0.99999994]], shape=(32, 1), dtype=float32)\n",
            "class_indexes: [0 0 0 0 0 0 0 0 0 0 0 0 0 0 0 0 0 0 0 0 0 0 0 0 0 0 0 0 0 0 0 0]\n",
            "datasset_labels: [1 1 0 1 0 0 0 0 0 0 0 0 1 0 1 1 1 0 0 0 0 1 0 0 1 0 1 1 1 1 0 1]\n"
          ]
        }
      ]
    }
  ]
}